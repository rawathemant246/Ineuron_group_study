{
 "cells": [
  {
   "cell_type": "markdown",
   "id": "c7bf893a",
   "metadata": {},
   "source": [
    "Let's say our name is Jean-Jacques and we are planning to move to Ames, Iowa, with a $120 000 budget to buy a house.\n",
    "We have no idea about the real estate market in the city.\n",
    "However the City Hall owns a precious piece of information : the House Price Dataset.\n",
    "It contains about 1500 lines of data about houses in the city, with attributes like Sale Price, Living Area, Garage Type, etc...\n",
    "\n",
    "The bad news is we can not access the entire database, it is too expensive.\n",
    "The good news is the City Hall proposes some samples : free for up to 25 observations, with a small fee for up to 100 observations.\n",
    "So we'll make use of this great offer to know a bit more about the real estate market, and understand what we can get for our money.\n",
    "\n",
    "And guess what? This is will be a good way to go through statistical tests.\n",
    "\n",
    "Note that we won't go too much into the theory here.\n",
    "This Kernel's main goal is to have an overview of which statistical tests to use depending on the situation faced, and how to use them."
   ]
  },
  {
   "cell_type": "code",
   "execution_count": 1,
   "id": "9d8b3b60",
   "metadata": {},
   "outputs": [],
   "source": [
    "import pandas as pd\n",
    "pd.set_option('max_colwidth', 200)\n",
    "pd.set_option('display.float_format', lambda x: '%.3f' %x)\n",
    "from statsmodels.stats.weightstats import *\n",
    "import scipy.stats"
   ]
  },
  {
   "cell_type": "code",
   "execution_count": 2,
   "id": "ce6f130a",
   "metadata": {},
   "outputs": [],
   "source": [
    "df = pd.read_csv('train.csv')"
   ]
  },
  {
   "cell_type": "markdown",
   "id": "7726ec25",
   "metadata": {},
   "source": [
    "# Introduction"
   ]
  },
  {
   "cell_type": "markdown",
   "id": "312de4a6",
   "metadata": {},
   "source": [
    "Theory"
   ]
  },
  {
   "cell_type": "markdown",
   "id": "d2b3cacd",
   "metadata": {},
   "source": [
    "What we will be trying to do in this tutorial is make assumptions on the whole population of houses based only on the samples at our disposal.\n",
    "This is what statistical tests do, but one must know a few principles before using them."
   ]
  },
  {
   "cell_type": "markdown",
   "id": "6fd2caaa",
   "metadata": {},
   "source": [
    "# The process\n"
   ]
  },
  {
   "cell_type": "markdown",
   "id": "4fe8e046",
   "metadata": {},
   "source": [
    "The basic process of statistical tests is the following :\n",
    "\n",
    "# Stating a Null Hypothesis (most often : \"the two values are not different\")\n",
    "# Stating an Alternative Hypothesis (most often : \"the two values are different\")\n",
    "# Defining an alpha value, which is a confidence level (most often : 95%). The higher it is, the harder it will be to validate the Alternative Hypothesis, but the more confident we will be if we do validate it.\n",
    "# Depending on data at disposal, we choose the relevant test (Z-test, T-test, etc... More on that later)\n",
    "# The test computes a score, which corresponds to a p-value.\n",
    "# If p-value is below 1-alpha (0.05 if alpha is 95%), we can accept the Alternative Hypothesis (or \"reject the Null Hypothesis\"). If it is over, we'll have to stick with the Null Hypothesis (or \"fail to reject the Null Hypothesis\").\n",
    "# There's a built-in function for most statistical tests out there.\n",
    "# Let's also build our own function to summarize all the information.\n",
    "# All tests we will conduct from now on are based on alpha = 95%."
   ]
  },
  {
   "cell_type": "code",
   "execution_count": null,
   "id": "4962b0b2",
   "metadata": {},
   "outputs": [],
   "source": []
  }
 ],
 "metadata": {
  "kernelspec": {
   "display_name": "Python 3 (ipykernel)",
   "language": "python",
   "name": "python3"
  },
  "language_info": {
   "codemirror_mode": {
    "name": "ipython",
    "version": 3
   },
   "file_extension": ".py",
   "mimetype": "text/x-python",
   "name": "python",
   "nbconvert_exporter": "python",
   "pygments_lexer": "ipython3",
   "version": "3.9.13"
  }
 },
 "nbformat": 4,
 "nbformat_minor": 5
}
